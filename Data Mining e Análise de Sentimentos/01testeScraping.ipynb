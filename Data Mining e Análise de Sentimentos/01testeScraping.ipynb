{
  "cells": [
    {
      "cell_type": "markdown",
      "metadata": {
        "colab_type": "text",
        "id": "view-in-github"
      },
      "source": [
        "<a href=\"https://colab.research.google.com/github/igorzeck/ICD005-Busca-Heuristica-Data-Mining/blob/main/01testeScraping.ipynb\" target=\"_parent\"><img src=\"https://colab.research.google.com/assets/colab-badge.svg\" alt=\"Open In Colab\"/></a>"
      ]
    },
    {
      "cell_type": "markdown",
      "metadata": {},
      "source": [
        "# Arquivo de Teste dos métodos de *Scraping*"
      ]
    },
    {
      "cell_type": "markdown",
      "metadata": {},
      "source": [
        "## Setup"
      ]
    },
    {
      "cell_type": "code",
      "execution_count": null,
      "metadata": {
        "id": "LfY6Icdv7cYj"
      },
      "outputs": [],
      "source": [
        "#importando as bibliotecas\n",
        "from bs4 import BeautifulSoup\n",
        "import requests"
      ]
    },
    {
      "cell_type": "markdown",
      "metadata": {},
      "source": [
        "## Testes"
      ]
    },
    {
      "cell_type": "markdown",
      "metadata": {},
      "source": [
        "### Globo.com - Exemplo"
      ]
    },
    {
      "cell_type": "code",
      "execution_count": null,
      "metadata": {
        "colab": {
          "base_uri": "https://localhost:8080/"
        },
        "id": "1c-zUR1_7hnr",
        "outputId": "b1a31ee3-bcff-4a1d-f311-3a596067bb04"
      },
      "outputs": [
        {
          "name": "stdout",
          "output_type": "stream",
          "text": [
            "Willian José coloca Bahia à frente do Inter pelo Brasileirão; SIGA LANCES\n",
            "Veja classificação atualizada, tabela de jogos e resultados do Brasileirão\n",
            "Live debate semis da Libertadores com Fla e Palmeiras; ASSISTA\n",
            "Fla relaciona Ortiz e De La Cruz para encarar Racing\n",
            "Trump dá sinal verde para derrubar Maduro, diz jornal\n",
            "Trump cita Brasil e diz que tarifa salvou agro dos EUA\n",
            "Camarotti: aliados já estimam data para a prisão de Bolsonaro\n",
            "Fachin autoriza Luiz Fux a compor 2ª Turma do STF\n",
            "Câmara arquiva um dos pedidos de cassação de Eduardo\n",
            "MP italiano é favorável à extradição de Zambelli\n",
            "Boulos diz que saída para trabalhadores de apps não é a CLT\n",
            "Ciro se filia ao PSDB com bolsonaristas presentes\n",
            "Americana denuncia funcionário de hotel por estupro em SP\n",
            "Preso youtuber suspeito de estupro de vulnerável\n",
            "CBF divulga os mandos de campo das semifinais e da decisão da Copa do Brasil\n",
            "Diretor cita desejo do Vasco de jogar semifinal em São Januário\n",
            "Vini Jr. faz bela jogada em gol, e Real vence Juventus\n",
            "Bayern goleia e se mantém 100%\n",
            "Liverpool atropela o Frankfurt\n",
            "Estêvão marca, e Chelsea goleia Ajax na Champions\n",
            "Cidade-sede da final da Libertadores, Lima entra em estado de emergência\n",
            "Fla relaciona Ortiz e De La Cruz\n",
            "Em 'Três Graças', Arminda usa obra de arte para esconder segredo\n",
            "SIGA: 2º dia de gravação de vinheta da Globo tem mais famosos e familiares\n",
            "Marquezine puxa fila de famosos em estreia de peça de Wagner Moura no RJ\n",
            "Flavia Alessandra diz ter tido síndrome do ombro congelado na menopausa\n",
            "Karine Teles fala de filhos que tem com diretor: 'Não têm redes'\n",
            "Você sabia?\n",
            "Jornalismo\n",
            "Economia\n",
            "Esporte\n",
            "Conheça estádio de US$ 16 mi onde Palmeiras vai jogar semi da Libertadores\n",
            "Agenda\n",
            "Entretenimento\n",
            "Vídeos em alta hoje\n",
            "\n",
            "Jornal Nacional\n",
            "Três Graças\n",
            "Futebol\n",
            "Vai cozinhar hoje?\n",
            "Saúde e bem-estar\n",
            "Para maiores de 50 anos: 3 fontes de proteína de alta qualidade para adicionar à sua dieta\n",
            "Artrose: por que César Filho precisou de mais uma cirurgia e como evitar doença\n",
            "Por que o tempo parece passar mais rápido à medida que envelhecemos?\n",
            "Histórias chocantes\n",
            "Homem descobre tesouro ilegalmente com detector de metais e o esconde por 8 anos\n",
            "Leão escapa de caminhão e pula de veículo em movimento na estrada\n",
            "Adolescente viraliza ao mostrar dificuldade para respirar perto do topo do Everest\n",
            "gshow\n",
            "Túlio fica perplexo ao descobrir informação sobre Estela\n",
            "Veja bastidores do clipe de L7, como Ryan, e Azzy com direito até a beijo\n",
            "Deborah Secco mostra bastidores de 'Bruna Surfistinha 2': 'Estamos de volta'\n",
            "Key Alves fala da 1ª gravidez: 'Não me via mãe de jeito nenhum'\n",
            "Tecnologia & games 📱\n",
            "6 funções inúteis que entopem a memória do seu iPhone\n",
            "É mais seguro comprar por app ou site? Especialista explica\n",
            "Fone da Philips: veja 7 opções do mais barato ao top para não errar\n",
            "Black Friday vem aí! 4 dicas de geladeiras para comprar\n",
            "Cultura\n",
            "Possível rival de Wagner Moura no Oscar, Skarsgård se diz 'nepo daddy'\n",
            "A arte feita por humanos ficará no passado? Museus enfrentam o debate\n",
            "Novela vertical com Jade já tem piloto e previsão para início da gravação\n",
            "Emílio Orciollo Netto fará filme sobre mentor de Chico Xavier\n",
            "jornalismo\n",
            "esporte\n",
            "entretenimento\n"
          ]
        }
      ],
      "source": [
        "# URL alvo\n",
        "minhaurl = 'https://www.globo.com/'\n",
        "\n",
        "# Cabeçalhos HTTP simulando um navegador real (evita bloqueios no retorno e retorna o HTML completo) nem sempre isso vai dar certo então é importante sempre copiar alguma das descrições dos blocos de conexão de rede presentes ao inspecionar o elemento da página\n",
        "HEADERS = {\n",
        "    \"Accept\": \"*/*\",\n",
        "    \"Accept-Encoding\": \"gzip, deflate, br\",\n",
        "    \"Accept-Language\": \"pt-BR,pt;q=0.9,en-US;q=0.8,en;q=0.7\",\n",
        "    \"User-Agent\": \"Mozilla/5.0 (Windows NT 10.0; Win64; x64) AppleWebKit/537.36 (KHTML, like Gecko) Chrome/120.0.0.0 Safari/537.36\"\n",
        "}\n",
        "\n",
        "# Faz a requisição HTTP usando os cabeçalhos definidos\n",
        "resposta = requests.get(minhaurl, headers=HEADERS)\n",
        "\n",
        "# pega o HTML da página\n",
        "html = resposta.text\n",
        "\n",
        "# Cria o objeto BeautifulSoup (estrutura de árvore (DOM) para manipular o HTML)\n",
        "soup = BeautifulSoup(html, 'html.parser')\n",
        "\n",
        "# Busca todos os elementos <h2> e <h3> que normalmente são títulos de notícias (esse tipo de detalhe precisa ser visto inspecionando o elemento da página e checando sua estrutura html)\n",
        "titulos = soup.find_all(['h2', 'h3'])\n",
        "\n",
        "# Extrai e imprime o texto limpo de cada título encontrado s\n",
        "for titulo in titulos:\n",
        "    print(titulo.get_text(strip=True))\n",
        "\n",
        "# Observação:  Se os dados não vierem no HTML (ou vierem incompletos) ele retornará None, significa que o site carrega parte do conteúdo via JavaScript.\n",
        "# Nesse caso, é necessário usar ferramentas que executem o JS (requests_html, Playwright ou Selenium), ou encontrar a API interna do site (geralmente retorna JSON) e fazer a requisição diretamente.\n",
        "\n"
      ]
    }
  ],
  "metadata": {
    "colab": {
      "include_colab_link": true,
      "provenance": []
    },
    "kernelspec": {
      "display_name": "Python 3",
      "name": "python3"
    },
    "language_info": {
      "name": "python"
    }
  },
  "nbformat": 4,
  "nbformat_minor": 0
}
