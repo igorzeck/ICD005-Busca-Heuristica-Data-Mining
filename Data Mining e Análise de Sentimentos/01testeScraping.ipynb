{
  "cells": [
    {
      "cell_type": "markdown",
      "metadata": {
        "id": "view-in-github",
        "colab_type": "text"
      },
      "source": [
        "<a href=\"https://colab.research.google.com/github/igorzeck/ICD005-Busca-Heuristica-Data-Mining/blob/main/Data%20Mining%20e%20An%C3%A1lise%20de%20Sentimentos/01testeScraping.ipynb\" target=\"_parent\"><img src=\"https://colab.research.google.com/assets/colab-badge.svg\" alt=\"Open In Colab\"/></a>"
      ]
    },
    {
      "cell_type": "markdown",
      "metadata": {
        "id": "mAKv-n7Wp_ss"
      },
      "source": [
        "# Arquivo de Teste dos métodos de *Scraping*"
      ]
    },
    {
      "cell_type": "markdown",
      "metadata": {
        "id": "hPuDOgQBp_sw"
      },
      "source": [
        "## Setup"
      ]
    },
    {
      "cell_type": "code",
      "execution_count": 1,
      "metadata": {
        "id": "LfY6Icdv7cYj"
      },
      "outputs": [],
      "source": [
        "#importando as bibliotecas\n",
        "from bs4 import BeautifulSoup\n",
        "import requests"
      ]
    },
    {
      "cell_type": "markdown",
      "metadata": {
        "id": "SLcYsWNzp_s0"
      },
      "source": [
        "## Testes"
      ]
    },
    {
      "cell_type": "markdown",
      "metadata": {
        "id": "FO-0MPM2p_s2"
      },
      "source": [
        "### Globo.com - Exemplo"
      ]
    },
    {
      "cell_type": "code",
      "execution_count": 2,
      "metadata": {
        "colab": {
          "base_uri": "https://localhost:8080/"
        },
        "id": "1c-zUR1_7hnr",
        "outputId": "85f264eb-6301-4f83-feae-b60453b7b4f5",
        "collapsed": true
      },
      "outputs": [
        {
          "output_type": "stream",
          "name": "stdout",
          "text": [
            "Censo identifica 86 novos povos e 21 línguas indígenas no Brasil\n",
            "Mais de 30 líderes indígenas foram assassinados no Brasil em 10 anos\n",
            "Ouça o nheengatu, idioma no 'top 10' de línguas indígenas do Censo\n",
            "MAPA: veja quantos povos e línguas indígenas existem na sua cidade\n",
            "Vale vaga na semi! João perde 1º set para nº 23 do mundo\n",
            "Canadense Shapovalov é ex-top 10 do mundo\n",
            "EUA anunciam novo ataque na Venezuela contra embarcação\n",
            "Como seria a substituição do dólar apoiada por Lula\n",
            "Maduro determina exercícios militares por todo o litoral\n",
            "Destróier dos EUA atraca em Trinidad e Tobago\n",
            "Lula diz que não há assunto proibido na reunião com Trump\n",
            "Lula quer esclarecer 'equívoco das taxações'\n",
            "Fux na 2ª Turma muda correlação de forças no Supremo\n",
            "Nomeação de parentes: entenda a decisão do STF\n",
            "Laudo aponta intoxicação na morte de modelo e filha\n",
            "Duto do aquecedor de gás dava para a sala; veja\n",
            "Botafogo propõe parcelar  prêmio da Copa de Clubes e deixa elenco insatisfeito\n",
            "Verdão não perdia desde 95 por 2 gols ou mais na Liberta, e reação é inédita\n",
            "Análise: trágico no 3 a 0, Verdão precisará ser perfeito em SP\n",
            "Projeto na Alerj de venda do Maracanã mira o Fla\n",
            "Verstappen surpreende com reação pelo título na F1: 'Fazendo história'\n",
            "'Três Graças': Gerluce descobre crime de Ferette\n",
            "Núcleo cômico fica completo\n",
            "Qual significado das '3 Graças'?\n",
            "'Era tristonha. Hoje sou bem resolvida com minha sexualidade', diz Fischer\n",
            "Ingrid Guimarães: 'Por que só as novinhas podem influenciar?'\n",
            "Alanis e Pedro Novaes relembram namoro: 'Foi uma paixão profunda'\n",
            "'Me sinto forte hoje falando', diz ex-Pantanal sobre morte do pai\n",
            "Você sabia?\n",
            "Jornalismo\n",
            "Economia\n",
            "Esporte\n",
            "Filho de ex-atacante do Verdão que foi artilheiro em Portugal é hoje um dos atacantes com mais gols na liga\n",
            "Agenda\n",
            "Entretenimento\n",
            "Vídeos em alta hoje\n",
            "\n",
            "Mais Você\n",
            "SP1\n",
            "Globo Esporte\n",
            "Vai cozinhar hoje?\n",
            "Histórias impressionantes\n",
            "Arqueólogos encontram ovo de dinossauro perfeitamente preservado\n",
            "Estrela do K-Pop revela motivo por trás de cirurgias plásticas que chocaram fãs\n",
            "Astro de reality quebra silêncio após descobrir em episódio que esposa planejava sua morte\n",
            "Dicas para casa\n",
            "Novo truque caseiro infalível mantém as bananas frescas e amarelas por 16 dias\n",
            "Quais aparelhos fazem a luz subir e pequenas mudanças para reduzir a conta\n",
            "Tesoura e até sapato estão entre as dicas para abrir garrafa de vinho sem saca-rolha\n",
            "gshow\n",
            "Sandra toma atitude radical ao ganhar aliança de Inês\n",
            "Abel aparece para Jaques em pesadelo revelador\n",
            "Wanessa avalia trajetória: 'Tropeços existem, mas fazem parte'\n",
            "Falabella comenta polêmica sobre celular no teatro: 'Paro sempre a peça'\n",
            "Tecnologia & games 📱\n",
            "Esse dispositivos com IA vão ajudar a diminuir MUITO sua conta de luz\n",
            "Conheça 10 TVs de 55 polegadas que valem cada centavo em 2025\n",
            "Testamos: 5 prompts que melhoraram a qualidade das minhas fotos\n",
            "Sua máquina de lavar vaza água quando enche? Veja o que causa o problema\n",
            "Receitas\n",
            "Bolo de aniversário tem massa fácil de fazer, recheio de abacaxi com doce de leite\n",
            "Tataki de salmão e atum combina sofisticação e equilíbrio de sabores\n",
            "Com fatia vendida a R$ 250 em Londres, bolo 'Matilda' chega ao Rio; veja receita\n",
            "Cupcake de Halloween fácil e delicioso vai fazer sucesso com as crianças\n",
            "jornalismo\n",
            "esporte\n",
            "entretenimento\n"
          ]
        }
      ],
      "source": [
        "# URL alvo\n",
        "minhaurl = 'https://www.globo.com/'\n",
        "\n",
        "# Cabeçalhos HTTP simulando um navegador real (evita bloqueios no retorno e retorna o HTML completo) nem sempre isso vai dar certo então é importante sempre copiar alguma das descrições dos blocos de conexão de rede presentes ao inspecionar o elemento da página\n",
        "HEADERS = {\n",
        "    \"Accept\": \"*/*\",\n",
        "    \"Accept-Encoding\": \"gzip, deflate, br\",\n",
        "    \"Accept-Language\": \"pt-BR,pt;q=0.9,en-US;q=0.8,en;q=0.7\",\n",
        "    \"User-Agent\": \"Mozilla/5.0 (Windows NT 10.0; Win64; x64) AppleWebKit/537.36 (KHTML, like Gecko) Chrome/120.0.0.0 Safari/537.36\"\n",
        "}\n",
        "\n",
        "# Faz a requisição HTTP usando os cabeçalhos definidos\n",
        "resposta = requests.get(minhaurl, headers=HEADERS)\n",
        "\n",
        "# pega o HTML da página\n",
        "html = resposta.text\n",
        "\n",
        "# Cria o objeto BeautifulSoup (estrutura de árvore (DOM) para manipular o HTML)\n",
        "soup = BeautifulSoup(html, 'html.parser')\n",
        "\n",
        "# Busca todos os elementos <h2> e <h3> que normalmente são títulos de notícias (esse tipo de detalhe precisa ser visto inspecionando o elemento da página e checando sua estrutura html)\n",
        "titulos = soup.find_all(['h2', 'h3'])\n",
        "\n",
        "# Extrai e imprime o texto limpo de cada título encontrado s\n",
        "for titulo in titulos:\n",
        "    print(titulo.get_text(strip=True))\n",
        "\n",
        "# Observação:  Se os dados não vierem no HTML (ou vierem incompletos) ele retornará None, significa que o site carrega parte do conteúdo via JavaScript.\n",
        "# Nesse caso, é necessário usar ferramentas que executem o JS (requests_html, Playwright ou Selenium), ou encontrar a API interna do site (geralmente retorna JSON) e fazer a requisição diretamente.\n",
        "\n"
      ]
    },
    {
      "cell_type": "markdown",
      "source": [
        "### Site de reviews - Exemplo"
      ],
      "metadata": {
        "id": "Muw1NqSPqFDM"
      }
    },
    {
      "cell_type": "markdown",
      "source": [
        "Amazon aparenta tacar em outra página"
      ],
      "metadata": {
        "id": "xrOxvMGrs5z2"
      }
    },
    {
      "cell_type": "code",
      "source": [
        "url_alvo = 'https://www.amazon.com/Handheld-Preloaded-Portable-Rechargeable-Electronic/dp/B0DJ5RPZY2?dib=eyJ2IjoiMSJ9.nkb8jxdXsQnBBFf_Dalr5X8SSWMQUqoZRCaLr__7TL4a2nhvxYqSi7EshcigOVruOI2NvIbCSqLYdjogZEZEBVFkzFS7SXT_cws-Gqod6KjpyjUTT3-mZM1SnROXzNeTDRTRHcYesnV4KP9oPUnPVr066ztoX5gSOy6isys7B0IU8Y9tmwxtG_4TEYc_r7LOGF3MhLghOdwILCNoLeezAxj7DLs6kKbyZcJuBF7DHFidAoPHuUYWnU5Ya3vpr2lkSOYAU1-hgfRTL7o7_teqZdIDbDOzcsGdKM9Jwrlh9H8.eqRK-flqztN-QNkP8Hw0ypwSI_NSojWhmCv4zUg1-tw&dib_tag=se&keywords=handheld%2Bgame%2Bconsole&qid=1761316802&sr=8-8&th=1'\n",
        "\n",
        "HEADERS = {\n",
        "    \"Accept\": \"*/*\",\n",
        "    \"Accept-Encoding\": \"gzip, deflate, br\",\n",
        "    \"Accept-Language\": \"pt-BR,pt;q=0.9,en-US;q=0.8,en;q=0.7\",\n",
        "    \"User-Agent\": \"Mozilla/5.0 (Windows NT 10.0; Win64; x64) AppleWebKit/537.36 (KHTML, like Gecko) Chrome/120.0.0.0 Safari/537.36\"\n",
        "}\n",
        "\n",
        "resposta = requests.get(url_alvo, headers=HEADERS)\n",
        "\n"
      ],
      "metadata": {
        "id": "SYT4njmkqKhy"
      },
      "execution_count": 3,
      "outputs": []
    },
    {
      "cell_type": "code",
      "source": [
        "resposta.cookies"
      ],
      "metadata": {
        "id": "vryJ5d-bqwMC",
        "outputId": "a00e6a04-0877-4c2a-b5f1-e5c8f388be3d",
        "colab": {
          "base_uri": "https://localhost:8080/"
        }
      },
      "execution_count": 5,
      "outputs": [
        {
          "output_type": "execute_result",
          "data": {
            "text/plain": [
              "<RequestsCookieJar[]>"
            ]
          },
          "metadata": {},
          "execution_count": 5
        }
      ]
    },
    {
      "cell_type": "code",
      "source": [
        "html = resposta.text\n",
        "\n",
        "soup = BeautifulSoup(html, 'html.parser')\n",
        "soup.span\n",
        "# els = soup.find_all(['h3'])\n",
        "# soup.prettify()\n",
        "\n",
        "# for el in els:\n",
        "#     print(el.get_text(strip=True))"
      ],
      "metadata": {
        "id": "7lKh_7dhqz8v",
        "outputId": "aec57d3b-9180-4e66-b123-d27577de21c4",
        "colab": {
          "base_uri": "https://localhost:8080/"
        }
      },
      "execution_count": 30,
      "outputs": [
        {
          "output_type": "execute_result",
          "data": {
            "text/plain": [
              "<span class=\"a-button a-button-primary a-span12\">\n",
              "<span class=\"a-button-inner\">\n",
              "<button alt=\"Continue shopping\" class=\"a-button-text\" type=\"submit\">Continue shopping</button>\n",
              "</span>\n",
              "</span>"
            ]
          },
          "metadata": {},
          "execution_count": 30
        }
      ]
    }
  ],
  "metadata": {
    "colab": {
      "provenance": [],
      "include_colab_link": true
    },
    "kernelspec": {
      "display_name": "Python 3",
      "name": "python3"
    },
    "language_info": {
      "name": "python"
    }
  },
  "nbformat": 4,
  "nbformat_minor": 0
}